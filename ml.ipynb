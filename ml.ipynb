{
 "cells": [
  {
   "cell_type": "code",
   "execution_count": 81,
   "id": "1f3b001c-74d6-49e9-bb39-e0ec4ca4f2c5",
   "metadata": {},
   "outputs": [],
   "source": [
    "import pandas as pd\n",
    "import plotly.graph_objects as go\n",
    "import numpy as np\n",
    "import seaborn as sns"
   ]
  },
  {
   "cell_type": "code",
   "execution_count": 82,
   "id": "cbee91f1-3d13-414e-ac51-5a0a48404e16",
   "metadata": {
    "scrolled": true
   },
   "outputs": [
    {
     "data": {
      "text/html": [
       "<div>\n",
       "<style scoped>\n",
       "    .dataframe tbody tr th:only-of-type {\n",
       "        vertical-align: middle;\n",
       "    }\n",
       "\n",
       "    .dataframe tbody tr th {\n",
       "        vertical-align: top;\n",
       "    }\n",
       "\n",
       "    .dataframe thead th {\n",
       "        text-align: right;\n",
       "    }\n",
       "</style>\n",
       "<table border=\"1\" class=\"dataframe\">\n",
       "  <thead>\n",
       "    <tr style=\"text-align: right;\">\n",
       "      <th></th>\n",
       "      <th>Datetime</th>\n",
       "      <th>Open</th>\n",
       "      <th>High</th>\n",
       "      <th>Low</th>\n",
       "      <th>Close</th>\n",
       "      <th>Structure</th>\n",
       "      <th>DailyHigh</th>\n",
       "      <th>DailyLow</th>\n",
       "      <th>SMA</th>\n",
       "      <th>EMA</th>\n",
       "      <th>Total_Agg_Volume_Buy</th>\n",
       "      <th>Total_Agg_Volume_Sell</th>\n",
       "      <th>Agg_Delta</th>\n",
       "    </tr>\n",
       "  </thead>\n",
       "  <tbody>\n",
       "    <tr>\n",
       "      <th>0</th>\n",
       "      <td>2024-05-07 09:00:00</td>\n",
       "      <td>5089.0</td>\n",
       "      <td>5091.5</td>\n",
       "      <td>5083.5</td>\n",
       "      <td>5084.5</td>\n",
       "      <td>0</td>\n",
       "      <td>-100000000.0</td>\n",
       "      <td>100000000.0</td>\n",
       "      <td>0.0</td>\n",
       "      <td>5084.5</td>\n",
       "      <td>18990.0</td>\n",
       "      <td>20869.0</td>\n",
       "      <td>-1879.0</td>\n",
       "    </tr>\n",
       "    <tr>\n",
       "      <th>1</th>\n",
       "      <td>2024-05-07 09:05:00</td>\n",
       "      <td>5084.0</td>\n",
       "      <td>5085.5</td>\n",
       "      <td>5082.0</td>\n",
       "      <td>5084.5</td>\n",
       "      <td>0</td>\n",
       "      <td>5091.5</td>\n",
       "      <td>5083.5</td>\n",
       "      <td>0.0</td>\n",
       "      <td>5084.5</td>\n",
       "      <td>12464.0</td>\n",
       "      <td>10639.0</td>\n",
       "      <td>1825.0</td>\n",
       "    </tr>\n",
       "    <tr>\n",
       "      <th>2</th>\n",
       "      <td>2024-05-07 09:10:00</td>\n",
       "      <td>5084.5</td>\n",
       "      <td>5088.5</td>\n",
       "      <td>5083.5</td>\n",
       "      <td>5085.0</td>\n",
       "      <td>0</td>\n",
       "      <td>5091.5</td>\n",
       "      <td>5082.0</td>\n",
       "      <td>0.0</td>\n",
       "      <td>5084.6</td>\n",
       "      <td>14025.0</td>\n",
       "      <td>12939.0</td>\n",
       "      <td>1086.0</td>\n",
       "    </tr>\n",
       "    <tr>\n",
       "      <th>3</th>\n",
       "      <td>2024-05-07 09:15:00</td>\n",
       "      <td>5085.0</td>\n",
       "      <td>5087.5</td>\n",
       "      <td>5082.5</td>\n",
       "      <td>5086.5</td>\n",
       "      <td>0</td>\n",
       "      <td>5091.5</td>\n",
       "      <td>5082.0</td>\n",
       "      <td>0.0</td>\n",
       "      <td>5085.0</td>\n",
       "      <td>12406.0</td>\n",
       "      <td>12154.0</td>\n",
       "      <td>252.0</td>\n",
       "    </tr>\n",
       "    <tr>\n",
       "      <th>4</th>\n",
       "      <td>2024-05-07 09:20:00</td>\n",
       "      <td>5086.0</td>\n",
       "      <td>5087.5</td>\n",
       "      <td>5083.5</td>\n",
       "      <td>5085.5</td>\n",
       "      <td>0</td>\n",
       "      <td>5091.5</td>\n",
       "      <td>5082.0</td>\n",
       "      <td>0.0</td>\n",
       "      <td>5085.1</td>\n",
       "      <td>5739.0</td>\n",
       "      <td>8109.0</td>\n",
       "      <td>-2370.0</td>\n",
       "    </tr>\n",
       "    <tr>\n",
       "      <th>...</th>\n",
       "      <td>...</td>\n",
       "      <td>...</td>\n",
       "      <td>...</td>\n",
       "      <td>...</td>\n",
       "      <td>...</td>\n",
       "      <td>...</td>\n",
       "      <td>...</td>\n",
       "      <td>...</td>\n",
       "      <td>...</td>\n",
       "      <td>...</td>\n",
       "      <td>...</td>\n",
       "      <td>...</td>\n",
       "      <td>...</td>\n",
       "    </tr>\n",
       "    <tr>\n",
       "      <th>109</th>\n",
       "      <td>2024-05-07 18:05:00</td>\n",
       "      <td>5083.5</td>\n",
       "      <td>5086.0</td>\n",
       "      <td>5082.5</td>\n",
       "      <td>5085.5</td>\n",
       "      <td>0</td>\n",
       "      <td>5095.0</td>\n",
       "      <td>5059.5</td>\n",
       "      <td>5080.0</td>\n",
       "      <td>5081.9</td>\n",
       "      <td>7296.0</td>\n",
       "      <td>3196.0</td>\n",
       "      <td>4100.0</td>\n",
       "    </tr>\n",
       "    <tr>\n",
       "      <th>110</th>\n",
       "      <td>2024-05-07 18:10:00</td>\n",
       "      <td>5085.5</td>\n",
       "      <td>5088.0</td>\n",
       "      <td>5085.5</td>\n",
       "      <td>5087.5</td>\n",
       "      <td>1</td>\n",
       "      <td>5095.0</td>\n",
       "      <td>5059.5</td>\n",
       "      <td>5080.5</td>\n",
       "      <td>5083.0</td>\n",
       "      <td>4594.0</td>\n",
       "      <td>2130.0</td>\n",
       "      <td>2464.0</td>\n",
       "    </tr>\n",
       "    <tr>\n",
       "      <th>111</th>\n",
       "      <td>2024-05-07 18:15:00</td>\n",
       "      <td>5086.5</td>\n",
       "      <td>5088.0</td>\n",
       "      <td>5085.5</td>\n",
       "      <td>5086.0</td>\n",
       "      <td>1</td>\n",
       "      <td>5095.0</td>\n",
       "      <td>5059.5</td>\n",
       "      <td>5080.8</td>\n",
       "      <td>5083.6</td>\n",
       "      <td>1009.0</td>\n",
       "      <td>1940.0</td>\n",
       "      <td>-931.0</td>\n",
       "    </tr>\n",
       "    <tr>\n",
       "      <th>112</th>\n",
       "      <td>2024-05-07 18:20:00</td>\n",
       "      <td>5086.5</td>\n",
       "      <td>5088.0</td>\n",
       "      <td>5086.0</td>\n",
       "      <td>5087.0</td>\n",
       "      <td>1</td>\n",
       "      <td>5095.0</td>\n",
       "      <td>5059.5</td>\n",
       "      <td>5081.2</td>\n",
       "      <td>5084.3</td>\n",
       "      <td>1806.0</td>\n",
       "      <td>1136.0</td>\n",
       "      <td>670.0</td>\n",
       "    </tr>\n",
       "    <tr>\n",
       "      <th>113</th>\n",
       "      <td>2024-05-07 18:25:00</td>\n",
       "      <td>5086.5</td>\n",
       "      <td>5089.0</td>\n",
       "      <td>5084.5</td>\n",
       "      <td>5085.0</td>\n",
       "      <td>1</td>\n",
       "      <td>0.0</td>\n",
       "      <td>0.0</td>\n",
       "      <td>5081.5</td>\n",
       "      <td>5084.4</td>\n",
       "      <td>0.0</td>\n",
       "      <td>0.0</td>\n",
       "      <td>0.0</td>\n",
       "    </tr>\n",
       "  </tbody>\n",
       "</table>\n",
       "<p>114 rows × 13 columns</p>\n",
       "</div>"
      ],
      "text/plain": [
       "               Datetime    Open    High     Low   Close  Structure  \\\n",
       "0   2024-05-07 09:00:00  5089.0  5091.5  5083.5  5084.5          0   \n",
       "1   2024-05-07 09:05:00  5084.0  5085.5  5082.0  5084.5          0   \n",
       "2   2024-05-07 09:10:00  5084.5  5088.5  5083.5  5085.0          0   \n",
       "3   2024-05-07 09:15:00  5085.0  5087.5  5082.5  5086.5          0   \n",
       "4   2024-05-07 09:20:00  5086.0  5087.5  5083.5  5085.5          0   \n",
       "..                  ...     ...     ...     ...     ...        ...   \n",
       "109 2024-05-07 18:05:00  5083.5  5086.0  5082.5  5085.5          0   \n",
       "110 2024-05-07 18:10:00  5085.5  5088.0  5085.5  5087.5          1   \n",
       "111 2024-05-07 18:15:00  5086.5  5088.0  5085.5  5086.0          1   \n",
       "112 2024-05-07 18:20:00  5086.5  5088.0  5086.0  5087.0          1   \n",
       "113 2024-05-07 18:25:00  5086.5  5089.0  5084.5  5085.0          1   \n",
       "\n",
       "       DailyHigh     DailyLow     SMA     EMA  Total_Agg_Volume_Buy  \\\n",
       "0   -100000000.0  100000000.0     0.0  5084.5               18990.0   \n",
       "1         5091.5       5083.5     0.0  5084.5               12464.0   \n",
       "2         5091.5       5082.0     0.0  5084.6               14025.0   \n",
       "3         5091.5       5082.0     0.0  5085.0               12406.0   \n",
       "4         5091.5       5082.0     0.0  5085.1                5739.0   \n",
       "..           ...          ...     ...     ...                   ...   \n",
       "109       5095.0       5059.5  5080.0  5081.9                7296.0   \n",
       "110       5095.0       5059.5  5080.5  5083.0                4594.0   \n",
       "111       5095.0       5059.5  5080.8  5083.6                1009.0   \n",
       "112       5095.0       5059.5  5081.2  5084.3                1806.0   \n",
       "113          0.0          0.0  5081.5  5084.4                   0.0   \n",
       "\n",
       "     Total_Agg_Volume_Sell  Agg_Delta  \n",
       "0                  20869.0    -1879.0  \n",
       "1                  10639.0     1825.0  \n",
       "2                  12939.0     1086.0  \n",
       "3                  12154.0      252.0  \n",
       "4                   8109.0    -2370.0  \n",
       "..                     ...        ...  \n",
       "109                 3196.0     4100.0  \n",
       "110                 2130.0     2464.0  \n",
       "111                 1940.0     -931.0  \n",
       "112                 1136.0      670.0  \n",
       "113                    0.0        0.0  \n",
       "\n",
       "[114 rows x 13 columns]"
      ]
     },
     "execution_count": 82,
     "metadata": {},
     "output_type": "execute_result"
    }
   ],
   "source": [
    "df = pd.read_csv(\"tmp/logs.txt\", delimiter=\"\\t\", low_memory=False)\n",
    "df[\"Datetime\"] = pd.to_datetime(df[\"Datetime\"])\n",
    "df"
   ]
  },
  {
   "cell_type": "code",
   "execution_count": 83,
   "id": "d1d4c9c8-48db-4c35-8194-da9eeec66536",
   "metadata": {},
   "outputs": [
    {
     "data": {
      "application/vnd.plotly.v1+json": {
       "config": {
        "plotlyServerURL": "https://plot.ly"
       },
       "data": [
        {
         "close": {
          "bdata": "AAAAAIDcs0AAAAAAgNyzQAAAAAAA3bNAAAAAAIDes0AAAAAAgN2zQAAAAACA5bNAAAAAAADjs0AAAAAAgNuzQAAAAAAA3rNAAAAAAIDVs0AAAAAAgNOzQAAAAAAAzrNAAAAAAADMs0AAAAAAgM2zQAAAAACAzrNAAAAAAADNs0AAAAAAANCzQAAAAAAAzrNAAAAAAIDRs0AAAAAAANGzQAAAAAAA0rNAAAAAAIDSs0AAAAAAANKzQAAAAACA1rNAAAAAAADXs0AAAAAAANazQAAAAACA1LNAAAAAAADSs0AAAAAAgNGzQAAAAACA0bNAAAAAAADSs0AAAAAAAM2zQAAAAAAAyLNAAAAAAIDFs0AAAAAAgMSzQAAAAACAxbNAAAAAAIDIs0AAAAAAgMqzQAAAAACAzLNAAAAAAIDPs0AAAAAAANCzQAAAAACA0LNAAAAAAIDRs0AAAAAAANKzQAAAAACA07NAAAAAAIDUs0AAAAAAgNOzQAAAAACA1LNAAAAAAADWs0AAAAAAgNSzQAAAAACA07NAAAAAAIDUs0AAAAAAgNGzQAAAAACA0bNAAAAAAIDSs0AAAAAAgNKzQAAAAAAA0rNAAAAAAIDTs0AAAAAAANOzQAAAAAAA07NAAAAAAADTs0AAAAAAgNOzQAAAAAAA07NAAAAAAADUs0AAAAAAANOzQAAAAAAA07NAAAAAAADTs0AAAAAAgNOzQAAAAACA07NAAAAAAIDXs0AAAAAAgNmzQAAAAAAA3LNAAAAAAADbs0AAAAAAANyzQAAAAACA27NAAAAAAADcs0AAAAAAgNuzQAAAAAAA2rNAAAAAAADds0AAAAAAgN2zQAAAAACA27NAAAAAAIDbs0AAAAAAANqzQAAAAAAA2rNAAAAAAIDas0AAAAAAgNezQAAAAAAA2LNAAAAAAIDZs0AAAAAAANizQAAAAAAA2LNAAAAAAADXs0AAAAAAgNezQAAAAAAA17NAAAAAAIDWs0AAAAAAgNWzQAAAAAAA1rNAAAAAAADXs0AAAAAAgNazQAAAAAAA17NAAAAAAADYs0AAAAAAANmzQAAAAACA2bNAAAAAAIDXs0AAAAAAgNezQAAAAACA17NAAAAAAADYs0AAAAAAgNmzQAAAAAAA2rNAAAAAAADbs0AAAAAAgN2zQAAAAACA37NAAAAAAADes0AAAAAAAN+zQAAAAAAA3bNA",
          "dtype": "f8"
         },
         "high": {
          "bdata": "AAAAAIDjs0AAAAAAgN2zQAAAAACA4LNAAAAAAIDfs0AAAAAAgN+zQAAAAACA5bNAAAAAAADns0AAAAAAAOSzQAAAAAAA3rNAAAAAAADfs0AAAAAAANazQAAAAACA07NAAAAAAIDQs0AAAAAAAM6zQAAAAACAz7NAAAAAAADQs0AAAAAAANGzQAAAAAAA07NAAAAAAIDRs0AAAAAAgNGzQAAAAAAA0rNAAAAAAIDUs0AAAAAAgNSzQAAAAACA17NAAAAAAADZs0AAAAAAANizQAAAAACA1rNAAAAAAADWs0AAAAAAgNSzQAAAAACA0rNAAAAAAADTs0AAAAAAANKzQAAAAACAzbNAAAAAAIDJs0AAAAAAgMazQAAAAAAAx7NAAAAAAADJs0AAAAAAgMuzQAAAAAAAzbNAAAAAAADRs0AAAAAAANGzQAAAAAAA0bNAAAAAAIDSs0AAAAAAANSzQAAAAACA1LNAAAAAAIDUs0AAAAAAANWzQAAAAACA1bNAAAAAAIDWs0AAAAAAgNWzQAAAAAAA1rNAAAAAAIDVs0AAAAAAANWzQAAAAACA0rNAAAAAAADTs0AAAAAAANOzQAAAAAAA07NAAAAAAIDTs0AAAAAAANWzQAAAAACA1LNAAAAAAIDTs0AAAAAAANSzQAAAAAAA1LNAAAAAAIDVs0AAAAAAgNSzQAAAAAAA1LNAAAAAAIDTs0AAAAAAANSzQAAAAACA1LNAAAAAAIDXs0AAAAAAgNqzQAAAAAAA3bNAAAAAAADcs0AAAAAAAN2zQAAAAAAA3bNAAAAAAADds0AAAAAAANyzQAAAAAAA3LNAAAAAAADes0AAAAAAAN+zQAAAAAAA3rNAAAAAAADds0AAAAAAAN2zQAAAAAAA27NAAAAAAIDbs0AAAAAAgNuzQAAAAAAA2bNAAAAAAIDZs0AAAAAAgNmzQAAAAACA2LNAAAAAAIDYs0AAAAAAgNizQAAAAAAA2LNAAAAAAADXs0AAAAAAgNazQAAAAAAA17NAAAAAAADXs0AAAAAAgNezQAAAAACA17NAAAAAAIDYs0AAAAAAANmzQAAAAAAA2rNAAAAAAIDZs0AAAAAAgNizQAAAAAAA2bNAAAAAAIDYs0AAAAAAANqzQAAAAAAA27NAAAAAAIDbs0AAAAAAAN6zQAAAAAAA4LNAAAAAAADgs0AAAAAAAOCzQAAAAAAA4bNA",
          "dtype": "f8"
         },
         "low": {
          "bdata": "AAAAAIDbs0AAAAAAANqzQAAAAACA27NAAAAAAIDas0AAAAAAgNuzQAAAAAAA3bNAAAAAAADjs0AAAAAAgNuzQAAAAACA17NAAAAAAADUs0AAAAAAgNCzQAAAAACAzbNAAAAAAADMs0AAAAAAgMqzQAAAAAAAy7NAAAAAAADMs0AAAAAAgMyzQAAAAACAzLNAAAAAAADMs0AAAAAAAM6zQAAAAAAAz7NAAAAAAADPs0AAAAAAANGzQAAAAAAA0rNAAAAAAIDVs0AAAAAAgNWzQAAAAAAA1LNAAAAAAIDQs0AAAAAAgNCzQAAAAACAz7NAAAAAAIDQs0AAAAAAAMyzQAAAAACAxrNAAAAAAIDFs0AAAAAAgMOzQAAAAAAAxLNAAAAAAADFs0AAAAAAAMizQAAAAACAyrNAAAAAAIDLs0AAAAAAgM2zQAAAAACAzbNAAAAAAIDPs0AAAAAAgNCzQAAAAAAA0rNAAAAAAIDSs0AAAAAAgNKzQAAAAACA07NAAAAAAIDUs0AAAAAAANSzQAAAAACA07NAAAAAAIDTs0AAAAAAANGzQAAAAAAA0bNAAAAAAADRs0AAAAAAANKzQAAAAACA0LNAAAAAAADRs0AAAAAAANOzQAAAAAAA07NAAAAAAIDSs0AAAAAAgNKzQAAAAAAA0bNAAAAAAADTs0AAAAAAgNKzQAAAAACA0rNAAAAAAIDRs0AAAAAAANKzQAAAAACA07NAAAAAAADUs0AAAAAAANezQAAAAACA2bNAAAAAAIDZs0AAAAAAANqzQAAAAAAA27NAAAAAAADbs0AAAAAAANuzQAAAAAAA2rNAAAAAAADas0AAAAAAgNyzQAAAAACA27NAAAAAAADbs0AAAAAAgNizQAAAAAAA2bNAAAAAAIDZs0AAAAAAgNezQAAAAACA17NAAAAAAADYs0AAAAAAANezQAAAAACA1rNAAAAAAADXs0AAAAAAANezQAAAAACA1rNAAAAAAIDUs0AAAAAAgNWzQAAAAAAA1bNAAAAAAIDVs0AAAAAAANazQAAAAAAA1rNAAAAAAADXs0AAAAAAgNezQAAAAACA17NAAAAAAADXs0AAAAAAgNezQAAAAACA17NAAAAAAADXs0AAAAAAANizQAAAAACA2bNAAAAAAIDZs0AAAAAAgNqzQAAAAACA3bNAAAAAAIDds0AAAAAAAN6zQAAAAACA3LNA",
          "dtype": "f8"
         },
         "name": "Candles",
         "open": {
          "bdata": "AAAAAADhs0AAAAAAANyzQAAAAACA3LNAAAAAAADds0AAAAAAAN6zQAAAAAAA3bNAAAAAAIDls0AAAAAAAOOzQAAAAACA27NAAAAAAADes0AAAAAAANWzQAAAAAAA07NAAAAAAIDNs0AAAAAAAMyzQAAAAAAAzbNAAAAAAIDOs0AAAAAAgMyzQAAAAAAA0LNAAAAAAIDNs0AAAAAAgNGzQAAAAACA0LNAAAAAAIDRs0AAAAAAgNKzQAAAAACA0rNAAAAAAADXs0AAAAAAgNazQAAAAACA1rNAAAAAAADVs0AAAAAAANKzQAAAAAAA0bNAAAAAAADRs0AAAAAAgNGzQAAAAAAAzbNAAAAAAADIs0AAAAAAgMWzQAAAAAAAxbNAAAAAAIDFs0AAAAAAgMizQAAAAACAyrNAAAAAAADMs0AAAAAAAM+zQAAAAAAA0LNAAAAAAADRs0AAAAAAgNGzQAAAAACA0rNAAAAAAADUs0AAAAAAANSzQAAAAAAA1LNAAAAAAIDUs0AAAAAAgNWzQAAAAAAA1bNAAAAAAADUs0AAAAAAANSzQAAAAACA0bNAAAAAAIDRs0AAAAAAgNKzQAAAAAAA0rNAAAAAAIDRs0AAAAAAgNOzQAAAAACA07NAAAAAAADTs0AAAAAAgNOzQAAAAACA07NAAAAAAADTs0AAAAAAANSzQAAAAACA07NAAAAAAIDTs0AAAAAAANOzQAAAAAAA1LNAAAAAAADUs0AAAAAAgNezQAAAAACA2bNAAAAAAADcs0AAAAAAgNuzQAAAAACA3LNAAAAAAADbs0AAAAAAANyzQAAAAAAA3LNAAAAAAADas0AAAAAAAN2zQAAAAAAA3rNAAAAAAIDbs0AAAAAAANuzQAAAAACA2bNAAAAAAIDas0AAAAAAgNqzQAAAAAAA2LNAAAAAAIDYs0AAAAAAgNmzQAAAAAAA2LNAAAAAAIDXs0AAAAAAgNezQAAAAAAA2LNAAAAAAIDWs0AAAAAAgNazQAAAAACA1bNAAAAAAIDWs0AAAAAAANezQAAAAACA1rNAAAAAAADXs0AAAAAAgNezQAAAAACA2LNAAAAAAADZs0AAAAAAgNezQAAAAAAA2LNAAAAAAIDXs0AAAAAAgNizQAAAAAAA2rNAAAAAAIDZs0AAAAAAgNuzQAAAAACA3bNAAAAAAIDes0AAAAAAgN6zQAAAAACA3rNA",
          "dtype": "f8"
         },
         "type": "candlestick",
         "x": [
          "2024-05-07T09:00:00.000000000",
          "2024-05-07T09:05:00.000000000",
          "2024-05-07T09:10:00.000000000",
          "2024-05-07T09:15:00.000000000",
          "2024-05-07T09:20:00.000000000",
          "2024-05-07T09:25:00.000000000",
          "2024-05-07T09:30:00.000000000",
          "2024-05-07T09:35:00.000000000",
          "2024-05-07T09:40:00.000000000",
          "2024-05-07T09:45:00.000000000",
          "2024-05-07T09:50:00.000000000",
          "2024-05-07T09:55:00.000000000",
          "2024-05-07T10:00:00.000000000",
          "2024-05-07T10:05:00.000000000",
          "2024-05-07T10:10:00.000000000",
          "2024-05-07T10:15:00.000000000",
          "2024-05-07T10:20:00.000000000",
          "2024-05-07T10:25:00.000000000",
          "2024-05-07T10:30:00.000000000",
          "2024-05-07T10:35:00.000000000",
          "2024-05-07T10:40:00.000000000",
          "2024-05-07T10:45:00.000000000",
          "2024-05-07T10:50:00.000000000",
          "2024-05-07T10:55:00.000000000",
          "2024-05-07T11:00:00.000000000",
          "2024-05-07T11:05:00.000000000",
          "2024-05-07T11:10:00.000000000",
          "2024-05-07T11:15:00.000000000",
          "2024-05-07T11:20:00.000000000",
          "2024-05-07T11:25:00.000000000",
          "2024-05-07T11:30:00.000000000",
          "2024-05-07T11:35:00.000000000",
          "2024-05-07T11:40:00.000000000",
          "2024-05-07T11:45:00.000000000",
          "2024-05-07T11:50:00.000000000",
          "2024-05-07T11:55:00.000000000",
          "2024-05-07T12:00:00.000000000",
          "2024-05-07T12:05:00.000000000",
          "2024-05-07T12:10:00.000000000",
          "2024-05-07T12:15:00.000000000",
          "2024-05-07T12:20:00.000000000",
          "2024-05-07T12:25:00.000000000",
          "2024-05-07T12:30:00.000000000",
          "2024-05-07T12:35:00.000000000",
          "2024-05-07T12:40:00.000000000",
          "2024-05-07T12:45:00.000000000",
          "2024-05-07T12:50:00.000000000",
          "2024-05-07T12:55:00.000000000",
          "2024-05-07T13:00:00.000000000",
          "2024-05-07T13:05:00.000000000",
          "2024-05-07T13:10:00.000000000",
          "2024-05-07T13:15:00.000000000",
          "2024-05-07T13:20:00.000000000",
          "2024-05-07T13:25:00.000000000",
          "2024-05-07T13:30:00.000000000",
          "2024-05-07T13:35:00.000000000",
          "2024-05-07T13:40:00.000000000",
          "2024-05-07T13:45:00.000000000",
          "2024-05-07T13:50:00.000000000",
          "2024-05-07T13:55:00.000000000",
          "2024-05-07T14:00:00.000000000",
          "2024-05-07T14:05:00.000000000",
          "2024-05-07T14:10:00.000000000",
          "2024-05-07T14:15:00.000000000",
          "2024-05-07T14:20:00.000000000",
          "2024-05-07T14:25:00.000000000",
          "2024-05-07T14:30:00.000000000",
          "2024-05-07T14:35:00.000000000",
          "2024-05-07T14:40:00.000000000",
          "2024-05-07T14:45:00.000000000",
          "2024-05-07T14:50:00.000000000",
          "2024-05-07T14:55:00.000000000",
          "2024-05-07T15:00:00.000000000",
          "2024-05-07T15:05:00.000000000",
          "2024-05-07T15:10:00.000000000",
          "2024-05-07T15:15:00.000000000",
          "2024-05-07T15:20:00.000000000",
          "2024-05-07T15:25:00.000000000",
          "2024-05-07T15:30:00.000000000",
          "2024-05-07T15:35:00.000000000",
          "2024-05-07T15:40:00.000000000",
          "2024-05-07T15:45:00.000000000",
          "2024-05-07T15:50:00.000000000",
          "2024-05-07T15:55:00.000000000",
          "2024-05-07T16:00:00.000000000",
          "2024-05-07T16:05:00.000000000",
          "2024-05-07T16:10:00.000000000",
          "2024-05-07T16:15:00.000000000",
          "2024-05-07T16:20:00.000000000",
          "2024-05-07T16:25:00.000000000",
          "2024-05-07T16:30:00.000000000",
          "2024-05-07T16:35:00.000000000",
          "2024-05-07T16:40:00.000000000",
          "2024-05-07T16:45:00.000000000",
          "2024-05-07T16:50:00.000000000",
          "2024-05-07T16:55:00.000000000",
          "2024-05-07T17:00:00.000000000",
          "2024-05-07T17:05:00.000000000",
          "2024-05-07T17:10:00.000000000",
          "2024-05-07T17:15:00.000000000",
          "2024-05-07T17:20:00.000000000",
          "2024-05-07T17:25:00.000000000",
          "2024-05-07T17:30:00.000000000",
          "2024-05-07T17:35:00.000000000",
          "2024-05-07T17:40:00.000000000",
          "2024-05-07T17:45:00.000000000",
          "2024-05-07T17:50:00.000000000",
          "2024-05-07T17:55:00.000000000",
          "2024-05-07T18:00:00.000000000",
          "2024-05-07T18:05:00.000000000",
          "2024-05-07T18:10:00.000000000",
          "2024-05-07T18:15:00.000000000",
          "2024-05-07T18:20:00.000000000",
          "2024-05-07T18:25:00.000000000"
         ]
        }
       ],
       "layout": {
        "height": 600,
        "template": {
         "data": {
          "bar": [
           {
            "error_x": {
             "color": "#2a3f5f"
            },
            "error_y": {
             "color": "#2a3f5f"
            },
            "marker": {
             "line": {
              "color": "#E5ECF6",
              "width": 0.5
             },
             "pattern": {
              "fillmode": "overlay",
              "size": 10,
              "solidity": 0.2
             }
            },
            "type": "bar"
           }
          ],
          "barpolar": [
           {
            "marker": {
             "line": {
              "color": "#E5ECF6",
              "width": 0.5
             },
             "pattern": {
              "fillmode": "overlay",
              "size": 10,
              "solidity": 0.2
             }
            },
            "type": "barpolar"
           }
          ],
          "carpet": [
           {
            "aaxis": {
             "endlinecolor": "#2a3f5f",
             "gridcolor": "white",
             "linecolor": "white",
             "minorgridcolor": "white",
             "startlinecolor": "#2a3f5f"
            },
            "baxis": {
             "endlinecolor": "#2a3f5f",
             "gridcolor": "white",
             "linecolor": "white",
             "minorgridcolor": "white",
             "startlinecolor": "#2a3f5f"
            },
            "type": "carpet"
           }
          ],
          "choropleth": [
           {
            "colorbar": {
             "outlinewidth": 0,
             "ticks": ""
            },
            "type": "choropleth"
           }
          ],
          "contour": [
           {
            "colorbar": {
             "outlinewidth": 0,
             "ticks": ""
            },
            "colorscale": [
             [
              0,
              "#0d0887"
             ],
             [
              0.1111111111111111,
              "#46039f"
             ],
             [
              0.2222222222222222,
              "#7201a8"
             ],
             [
              0.3333333333333333,
              "#9c179e"
             ],
             [
              0.4444444444444444,
              "#bd3786"
             ],
             [
              0.5555555555555556,
              "#d8576b"
             ],
             [
              0.6666666666666666,
              "#ed7953"
             ],
             [
              0.7777777777777778,
              "#fb9f3a"
             ],
             [
              0.8888888888888888,
              "#fdca26"
             ],
             [
              1,
              "#f0f921"
             ]
            ],
            "type": "contour"
           }
          ],
          "contourcarpet": [
           {
            "colorbar": {
             "outlinewidth": 0,
             "ticks": ""
            },
            "type": "contourcarpet"
           }
          ],
          "heatmap": [
           {
            "colorbar": {
             "outlinewidth": 0,
             "ticks": ""
            },
            "colorscale": [
             [
              0,
              "#0d0887"
             ],
             [
              0.1111111111111111,
              "#46039f"
             ],
             [
              0.2222222222222222,
              "#7201a8"
             ],
             [
              0.3333333333333333,
              "#9c179e"
             ],
             [
              0.4444444444444444,
              "#bd3786"
             ],
             [
              0.5555555555555556,
              "#d8576b"
             ],
             [
              0.6666666666666666,
              "#ed7953"
             ],
             [
              0.7777777777777778,
              "#fb9f3a"
             ],
             [
              0.8888888888888888,
              "#fdca26"
             ],
             [
              1,
              "#f0f921"
             ]
            ],
            "type": "heatmap"
           }
          ],
          "histogram": [
           {
            "marker": {
             "pattern": {
              "fillmode": "overlay",
              "size": 10,
              "solidity": 0.2
             }
            },
            "type": "histogram"
           }
          ],
          "histogram2d": [
           {
            "colorbar": {
             "outlinewidth": 0,
             "ticks": ""
            },
            "colorscale": [
             [
              0,
              "#0d0887"
             ],
             [
              0.1111111111111111,
              "#46039f"
             ],
             [
              0.2222222222222222,
              "#7201a8"
             ],
             [
              0.3333333333333333,
              "#9c179e"
             ],
             [
              0.4444444444444444,
              "#bd3786"
             ],
             [
              0.5555555555555556,
              "#d8576b"
             ],
             [
              0.6666666666666666,
              "#ed7953"
             ],
             [
              0.7777777777777778,
              "#fb9f3a"
             ],
             [
              0.8888888888888888,
              "#fdca26"
             ],
             [
              1,
              "#f0f921"
             ]
            ],
            "type": "histogram2d"
           }
          ],
          "histogram2dcontour": [
           {
            "colorbar": {
             "outlinewidth": 0,
             "ticks": ""
            },
            "colorscale": [
             [
              0,
              "#0d0887"
             ],
             [
              0.1111111111111111,
              "#46039f"
             ],
             [
              0.2222222222222222,
              "#7201a8"
             ],
             [
              0.3333333333333333,
              "#9c179e"
             ],
             [
              0.4444444444444444,
              "#bd3786"
             ],
             [
              0.5555555555555556,
              "#d8576b"
             ],
             [
              0.6666666666666666,
              "#ed7953"
             ],
             [
              0.7777777777777778,
              "#fb9f3a"
             ],
             [
              0.8888888888888888,
              "#fdca26"
             ],
             [
              1,
              "#f0f921"
             ]
            ],
            "type": "histogram2dcontour"
           }
          ],
          "mesh3d": [
           {
            "colorbar": {
             "outlinewidth": 0,
             "ticks": ""
            },
            "type": "mesh3d"
           }
          ],
          "parcoords": [
           {
            "line": {
             "colorbar": {
              "outlinewidth": 0,
              "ticks": ""
             }
            },
            "type": "parcoords"
           }
          ],
          "pie": [
           {
            "automargin": true,
            "type": "pie"
           }
          ],
          "scatter": [
           {
            "fillpattern": {
             "fillmode": "overlay",
             "size": 10,
             "solidity": 0.2
            },
            "type": "scatter"
           }
          ],
          "scatter3d": [
           {
            "line": {
             "colorbar": {
              "outlinewidth": 0,
              "ticks": ""
             }
            },
            "marker": {
             "colorbar": {
              "outlinewidth": 0,
              "ticks": ""
             }
            },
            "type": "scatter3d"
           }
          ],
          "scattercarpet": [
           {
            "marker": {
             "colorbar": {
              "outlinewidth": 0,
              "ticks": ""
             }
            },
            "type": "scattercarpet"
           }
          ],
          "scattergeo": [
           {
            "marker": {
             "colorbar": {
              "outlinewidth": 0,
              "ticks": ""
             }
            },
            "type": "scattergeo"
           }
          ],
          "scattergl": [
           {
            "marker": {
             "colorbar": {
              "outlinewidth": 0,
              "ticks": ""
             }
            },
            "type": "scattergl"
           }
          ],
          "scattermap": [
           {
            "marker": {
             "colorbar": {
              "outlinewidth": 0,
              "ticks": ""
             }
            },
            "type": "scattermap"
           }
          ],
          "scattermapbox": [
           {
            "marker": {
             "colorbar": {
              "outlinewidth": 0,
              "ticks": ""
             }
            },
            "type": "scattermapbox"
           }
          ],
          "scatterpolar": [
           {
            "marker": {
             "colorbar": {
              "outlinewidth": 0,
              "ticks": ""
             }
            },
            "type": "scatterpolar"
           }
          ],
          "scatterpolargl": [
           {
            "marker": {
             "colorbar": {
              "outlinewidth": 0,
              "ticks": ""
             }
            },
            "type": "scatterpolargl"
           }
          ],
          "scatterternary": [
           {
            "marker": {
             "colorbar": {
              "outlinewidth": 0,
              "ticks": ""
             }
            },
            "type": "scatterternary"
           }
          ],
          "surface": [
           {
            "colorbar": {
             "outlinewidth": 0,
             "ticks": ""
            },
            "colorscale": [
             [
              0,
              "#0d0887"
             ],
             [
              0.1111111111111111,
              "#46039f"
             ],
             [
              0.2222222222222222,
              "#7201a8"
             ],
             [
              0.3333333333333333,
              "#9c179e"
             ],
             [
              0.4444444444444444,
              "#bd3786"
             ],
             [
              0.5555555555555556,
              "#d8576b"
             ],
             [
              0.6666666666666666,
              "#ed7953"
             ],
             [
              0.7777777777777778,
              "#fb9f3a"
             ],
             [
              0.8888888888888888,
              "#fdca26"
             ],
             [
              1,
              "#f0f921"
             ]
            ],
            "type": "surface"
           }
          ],
          "table": [
           {
            "cells": {
             "fill": {
              "color": "#EBF0F8"
             },
             "line": {
              "color": "white"
             }
            },
            "header": {
             "fill": {
              "color": "#C8D4E3"
             },
             "line": {
              "color": "white"
             }
            },
            "type": "table"
           }
          ]
         },
         "layout": {
          "annotationdefaults": {
           "arrowcolor": "#2a3f5f",
           "arrowhead": 0,
           "arrowwidth": 1
          },
          "autotypenumbers": "strict",
          "coloraxis": {
           "colorbar": {
            "outlinewidth": 0,
            "ticks": ""
           }
          },
          "colorscale": {
           "diverging": [
            [
             0,
             "#8e0152"
            ],
            [
             0.1,
             "#c51b7d"
            ],
            [
             0.2,
             "#de77ae"
            ],
            [
             0.3,
             "#f1b6da"
            ],
            [
             0.4,
             "#fde0ef"
            ],
            [
             0.5,
             "#f7f7f7"
            ],
            [
             0.6,
             "#e6f5d0"
            ],
            [
             0.7,
             "#b8e186"
            ],
            [
             0.8,
             "#7fbc41"
            ],
            [
             0.9,
             "#4d9221"
            ],
            [
             1,
             "#276419"
            ]
           ],
           "sequential": [
            [
             0,
             "#0d0887"
            ],
            [
             0.1111111111111111,
             "#46039f"
            ],
            [
             0.2222222222222222,
             "#7201a8"
            ],
            [
             0.3333333333333333,
             "#9c179e"
            ],
            [
             0.4444444444444444,
             "#bd3786"
            ],
            [
             0.5555555555555556,
             "#d8576b"
            ],
            [
             0.6666666666666666,
             "#ed7953"
            ],
            [
             0.7777777777777778,
             "#fb9f3a"
            ],
            [
             0.8888888888888888,
             "#fdca26"
            ],
            [
             1,
             "#f0f921"
            ]
           ],
           "sequentialminus": [
            [
             0,
             "#0d0887"
            ],
            [
             0.1111111111111111,
             "#46039f"
            ],
            [
             0.2222222222222222,
             "#7201a8"
            ],
            [
             0.3333333333333333,
             "#9c179e"
            ],
            [
             0.4444444444444444,
             "#bd3786"
            ],
            [
             0.5555555555555556,
             "#d8576b"
            ],
            [
             0.6666666666666666,
             "#ed7953"
            ],
            [
             0.7777777777777778,
             "#fb9f3a"
            ],
            [
             0.8888888888888888,
             "#fdca26"
            ],
            [
             1,
             "#f0f921"
            ]
           ]
          },
          "colorway": [
           "#636efa",
           "#EF553B",
           "#00cc96",
           "#ab63fa",
           "#FFA15A",
           "#19d3f3",
           "#FF6692",
           "#B6E880",
           "#FF97FF",
           "#FECB52"
          ],
          "font": {
           "color": "#2a3f5f"
          },
          "geo": {
           "bgcolor": "white",
           "lakecolor": "white",
           "landcolor": "#E5ECF6",
           "showlakes": true,
           "showland": true,
           "subunitcolor": "white"
          },
          "hoverlabel": {
           "align": "left"
          },
          "hovermode": "closest",
          "mapbox": {
           "style": "light"
          },
          "paper_bgcolor": "white",
          "plot_bgcolor": "#E5ECF6",
          "polar": {
           "angularaxis": {
            "gridcolor": "white",
            "linecolor": "white",
            "ticks": ""
           },
           "bgcolor": "#E5ECF6",
           "radialaxis": {
            "gridcolor": "white",
            "linecolor": "white",
            "ticks": ""
           }
          },
          "scene": {
           "xaxis": {
            "backgroundcolor": "#E5ECF6",
            "gridcolor": "white",
            "gridwidth": 2,
            "linecolor": "white",
            "showbackground": true,
            "ticks": "",
            "zerolinecolor": "white"
           },
           "yaxis": {
            "backgroundcolor": "#E5ECF6",
            "gridcolor": "white",
            "gridwidth": 2,
            "linecolor": "white",
            "showbackground": true,
            "ticks": "",
            "zerolinecolor": "white"
           },
           "zaxis": {
            "backgroundcolor": "#E5ECF6",
            "gridcolor": "white",
            "gridwidth": 2,
            "linecolor": "white",
            "showbackground": true,
            "ticks": "",
            "zerolinecolor": "white"
           }
          },
          "shapedefaults": {
           "line": {
            "color": "#2a3f5f"
           }
          },
          "ternary": {
           "aaxis": {
            "gridcolor": "white",
            "linecolor": "white",
            "ticks": ""
           },
           "baxis": {
            "gridcolor": "white",
            "linecolor": "white",
            "ticks": ""
           },
           "bgcolor": "#E5ECF6",
           "caxis": {
            "gridcolor": "white",
            "linecolor": "white",
            "ticks": ""
           }
          },
          "title": {
           "x": 0.05
          },
          "xaxis": {
           "automargin": true,
           "gridcolor": "white",
           "linecolor": "white",
           "ticks": "",
           "title": {
            "standoff": 15
           },
           "zerolinecolor": "white",
           "zerolinewidth": 2
          },
          "yaxis": {
           "automargin": true,
           "gridcolor": "white",
           "linecolor": "white",
           "ticks": "",
           "title": {
            "standoff": 15
           },
           "zerolinecolor": "white",
           "zerolinewidth": 2
          }
         }
        },
        "title": {
         "text": "Candlestick Chart (WDO)"
        },
        "width": 1000,
        "xaxis": {
         "rangeslider": {
          "visible": true
         },
         "title": {
          "text": "Datetime"
         }
        },
        "yaxis": {
         "title": {
          "text": "Price"
         }
        }
       }
      },
      "image/png": "[encoded data removed]"
     },
     "metadata": {},
     "output_type": "display_data"
    }
   ],
   "source": [
    "fig = go.Figure(data=[go.Candlestick(x=df['Datetime'],\n",
    "                                     open=df['Open'],\n",
    "                                     high=df['High'],\n",
    "                                     low=df['Low'],\n",
    "                                     close=df['Close'],\n",
    "                                     name='Candles')])\n",
    "\n",
    "# fig.add_trace(go.Scatter(x=df['Datetime'], y=df['SMA'], mode='lines', name='SMA', line=dict(color='blue', dash='dash')))\n",
    "# fig.add_trace(go.Scatter(x=df['Datetime'], y=df['EMA'], mode='lines', name='EMA', line=dict(color='orange', dash='dash')))\n",
    "\n",
    "fig.update_layout(title='Candlestick Chart (WDO)',\n",
    "                  xaxis_title='Datetime',\n",
    "                  yaxis_title='Price',\n",
    "                  xaxis_rangeslider_visible=True,\n",
    "                  height=600,\n",
    "                  width=1000)"
   ]
  },
  {
   "cell_type": "code",
   "execution_count": 87,
   "id": "9e702b91-de07-4567-9808-e84eafdd32c0",
   "metadata": {},
   "outputs": [],
   "source": [
    "df[\"Agg_Delta\"] = abs(df[\"Agg_Delta\"])"
   ]
  },
  {
   "cell_type": "code",
   "execution_count": 89,
   "id": "9c33cfde-667d-4e0f-b0d5-b025075d1ed8",
   "metadata": {},
   "outputs": [
    {
     "data": {
      "text/html": [
       "<div>\n",
       "<style scoped>\n",
       "    .dataframe tbody tr th:only-of-type {\n",
       "        vertical-align: middle;\n",
       "    }\n",
       "\n",
       "    .dataframe tbody tr th {\n",
       "        vertical-align: top;\n",
       "    }\n",
       "\n",
       "    .dataframe thead th {\n",
       "        text-align: right;\n",
       "    }\n",
       "</style>\n",
       "<table border=\"1\" class=\"dataframe\">\n",
       "  <thead>\n",
       "    <tr style=\"text-align: right;\">\n",
       "      <th></th>\n",
       "      <th>Datetime</th>\n",
       "      <th>Open</th>\n",
       "      <th>High</th>\n",
       "      <th>Low</th>\n",
       "      <th>Close</th>\n",
       "      <th>Structure</th>\n",
       "      <th>DailyHigh</th>\n",
       "      <th>DailyLow</th>\n",
       "      <th>SMA</th>\n",
       "      <th>EMA</th>\n",
       "      <th>Total_Agg_Volume_Buy</th>\n",
       "      <th>Total_Agg_Volume_Sell</th>\n",
       "      <th>Agg_Delta</th>\n",
       "    </tr>\n",
       "  </thead>\n",
       "  <tbody>\n",
       "    <tr>\n",
       "      <th>0</th>\n",
       "      <td>2024-05-07 09:00:00</td>\n",
       "      <td>5089.0</td>\n",
       "      <td>5091.5</td>\n",
       "      <td>5083.5</td>\n",
       "      <td>5084.5</td>\n",
       "      <td>0</td>\n",
       "      <td>-100000000.0</td>\n",
       "      <td>100000000.0</td>\n",
       "      <td>0.0</td>\n",
       "      <td>5084.5</td>\n",
       "      <td>18990.0</td>\n",
       "      <td>20869.0</td>\n",
       "      <td>1879.0</td>\n",
       "    </tr>\n",
       "    <tr>\n",
       "      <th>1</th>\n",
       "      <td>2024-05-07 09:05:00</td>\n",
       "      <td>5084.0</td>\n",
       "      <td>5085.5</td>\n",
       "      <td>5082.0</td>\n",
       "      <td>5084.5</td>\n",
       "      <td>0</td>\n",
       "      <td>5091.5</td>\n",
       "      <td>5083.5</td>\n",
       "      <td>0.0</td>\n",
       "      <td>5084.5</td>\n",
       "      <td>12464.0</td>\n",
       "      <td>10639.0</td>\n",
       "      <td>1825.0</td>\n",
       "    </tr>\n",
       "    <tr>\n",
       "      <th>2</th>\n",
       "      <td>2024-05-07 09:10:00</td>\n",
       "      <td>5084.5</td>\n",
       "      <td>5088.5</td>\n",
       "      <td>5083.5</td>\n",
       "      <td>5085.0</td>\n",
       "      <td>0</td>\n",
       "      <td>5091.5</td>\n",
       "      <td>5082.0</td>\n",
       "      <td>0.0</td>\n",
       "      <td>5084.6</td>\n",
       "      <td>14025.0</td>\n",
       "      <td>12939.0</td>\n",
       "      <td>1086.0</td>\n",
       "    </tr>\n",
       "    <tr>\n",
       "      <th>3</th>\n",
       "      <td>2024-05-07 09:15:00</td>\n",
       "      <td>5085.0</td>\n",
       "      <td>5087.5</td>\n",
       "      <td>5082.5</td>\n",
       "      <td>5086.5</td>\n",
       "      <td>0</td>\n",
       "      <td>5091.5</td>\n",
       "      <td>5082.0</td>\n",
       "      <td>0.0</td>\n",
       "      <td>5085.0</td>\n",
       "      <td>12406.0</td>\n",
       "      <td>12154.0</td>\n",
       "      <td>252.0</td>\n",
       "    </tr>\n",
       "    <tr>\n",
       "      <th>4</th>\n",
       "      <td>2024-05-07 09:20:00</td>\n",
       "      <td>5086.0</td>\n",
       "      <td>5087.5</td>\n",
       "      <td>5083.5</td>\n",
       "      <td>5085.5</td>\n",
       "      <td>0</td>\n",
       "      <td>5091.5</td>\n",
       "      <td>5082.0</td>\n",
       "      <td>0.0</td>\n",
       "      <td>5085.1</td>\n",
       "      <td>5739.0</td>\n",
       "      <td>8109.0</td>\n",
       "      <td>2370.0</td>\n",
       "    </tr>\n",
       "    <tr>\n",
       "      <th>...</th>\n",
       "      <td>...</td>\n",
       "      <td>...</td>\n",
       "      <td>...</td>\n",
       "      <td>...</td>\n",
       "      <td>...</td>\n",
       "      <td>...</td>\n",
       "      <td>...</td>\n",
       "      <td>...</td>\n",
       "      <td>...</td>\n",
       "      <td>...</td>\n",
       "      <td>...</td>\n",
       "      <td>...</td>\n",
       "      <td>...</td>\n",
       "    </tr>\n",
       "    <tr>\n",
       "      <th>109</th>\n",
       "      <td>2024-05-07 18:05:00</td>\n",
       "      <td>5083.5</td>\n",
       "      <td>5086.0</td>\n",
       "      <td>5082.5</td>\n",
       "      <td>5085.5</td>\n",
       "      <td>0</td>\n",
       "      <td>5095.0</td>\n",
       "      <td>5059.5</td>\n",
       "      <td>5080.0</td>\n",
       "      <td>5081.9</td>\n",
       "      <td>7296.0</td>\n",
       "      <td>3196.0</td>\n",
       "      <td>4100.0</td>\n",
       "    </tr>\n",
       "    <tr>\n",
       "      <th>110</th>\n",
       "      <td>2024-05-07 18:10:00</td>\n",
       "      <td>5085.5</td>\n",
       "      <td>5088.0</td>\n",
       "      <td>5085.5</td>\n",
       "      <td>5087.5</td>\n",
       "      <td>1</td>\n",
       "      <td>5095.0</td>\n",
       "      <td>5059.5</td>\n",
       "      <td>5080.5</td>\n",
       "      <td>5083.0</td>\n",
       "      <td>4594.0</td>\n",
       "      <td>2130.0</td>\n",
       "      <td>2464.0</td>\n",
       "    </tr>\n",
       "    <tr>\n",
       "      <th>111</th>\n",
       "      <td>2024-05-07 18:15:00</td>\n",
       "      <td>5086.5</td>\n",
       "      <td>5088.0</td>\n",
       "      <td>5085.5</td>\n",
       "      <td>5086.0</td>\n",
       "      <td>1</td>\n",
       "      <td>5095.0</td>\n",
       "      <td>5059.5</td>\n",
       "      <td>5080.8</td>\n",
       "      <td>5083.6</td>\n",
       "      <td>1009.0</td>\n",
       "      <td>1940.0</td>\n",
       "      <td>931.0</td>\n",
       "    </tr>\n",
       "    <tr>\n",
       "      <th>112</th>\n",
       "      <td>2024-05-07 18:20:00</td>\n",
       "      <td>5086.5</td>\n",
       "      <td>5088.0</td>\n",
       "      <td>5086.0</td>\n",
       "      <td>5087.0</td>\n",
       "      <td>1</td>\n",
       "      <td>5095.0</td>\n",
       "      <td>5059.5</td>\n",
       "      <td>5081.2</td>\n",
       "      <td>5084.3</td>\n",
       "      <td>1806.0</td>\n",
       "      <td>1136.0</td>\n",
       "      <td>670.0</td>\n",
       "    </tr>\n",
       "    <tr>\n",
       "      <th>113</th>\n",
       "      <td>2024-05-07 18:25:00</td>\n",
       "      <td>5086.5</td>\n",
       "      <td>5089.0</td>\n",
       "      <td>5084.5</td>\n",
       "      <td>5085.0</td>\n",
       "      <td>1</td>\n",
       "      <td>0.0</td>\n",
       "      <td>0.0</td>\n",
       "      <td>5081.5</td>\n",
       "      <td>5084.4</td>\n",
       "      <td>0.0</td>\n",
       "      <td>0.0</td>\n",
       "      <td>0.0</td>\n",
       "    </tr>\n",
       "  </tbody>\n",
       "</table>\n",
       "<p>114 rows × 13 columns</p>\n",
       "</div>"
      ],
      "text/plain": [
       "               Datetime    Open    High     Low   Close  Structure  \\\n",
       "0   2024-05-07 09:00:00  5089.0  5091.5  5083.5  5084.5          0   \n",
       "1   2024-05-07 09:05:00  5084.0  5085.5  5082.0  5084.5          0   \n",
       "2   2024-05-07 09:10:00  5084.5  5088.5  5083.5  5085.0          0   \n",
       "3   2024-05-07 09:15:00  5085.0  5087.5  5082.5  5086.5          0   \n",
       "4   2024-05-07 09:20:00  5086.0  5087.5  5083.5  5085.5          0   \n",
       "..                  ...     ...     ...     ...     ...        ...   \n",
       "109 2024-05-07 18:05:00  5083.5  5086.0  5082.5  5085.5          0   \n",
       "110 2024-05-07 18:10:00  5085.5  5088.0  5085.5  5087.5          1   \n",
       "111 2024-05-07 18:15:00  5086.5  5088.0  5085.5  5086.0          1   \n",
       "112 2024-05-07 18:20:00  5086.5  5088.0  5086.0  5087.0          1   \n",
       "113 2024-05-07 18:25:00  5086.5  5089.0  5084.5  5085.0          1   \n",
       "\n",
       "       DailyHigh     DailyLow     SMA     EMA  Total_Agg_Volume_Buy  \\\n",
       "0   -100000000.0  100000000.0     0.0  5084.5               18990.0   \n",
       "1         5091.5       5083.5     0.0  5084.5               12464.0   \n",
       "2         5091.5       5082.0     0.0  5084.6               14025.0   \n",
       "3         5091.5       5082.0     0.0  5085.0               12406.0   \n",
       "4         5091.5       5082.0     0.0  5085.1                5739.0   \n",
       "..           ...          ...     ...     ...                   ...   \n",
       "109       5095.0       5059.5  5080.0  5081.9                7296.0   \n",
       "110       5095.0       5059.5  5080.5  5083.0                4594.0   \n",
       "111       5095.0       5059.5  5080.8  5083.6                1009.0   \n",
       "112       5095.0       5059.5  5081.2  5084.3                1806.0   \n",
       "113          0.0          0.0  5081.5  5084.4                   0.0   \n",
       "\n",
       "     Total_Agg_Volume_Sell  Agg_Delta  \n",
       "0                  20869.0     1879.0  \n",
       "1                  10639.0     1825.0  \n",
       "2                  12939.0     1086.0  \n",
       "3                  12154.0      252.0  \n",
       "4                   8109.0     2370.0  \n",
       "..                     ...        ...  \n",
       "109                 3196.0     4100.0  \n",
       "110                 2130.0     2464.0  \n",
       "111                 1940.0      931.0  \n",
       "112                 1136.0      670.0  \n",
       "113                    0.0        0.0  \n",
       "\n",
       "[114 rows x 13 columns]"
      ]
     },
     "execution_count": 89,
     "metadata": {},
     "output_type": "execute_result"
    }
   ],
   "source": [
    "df"
   ]
  },
  {
   "cell_type": "code",
   "execution_count": 88,
   "id": "f6b149bc-19a1-4cef-afcc-5941da1faabe",
   "metadata": {},
   "outputs": [
    {
     "data": {
      "text/plain": [
       "np.float64(4019.1771496938304)"
      ]
     },
     "execution_count": 88,
     "metadata": {},
     "output_type": "execute_result"
    }
   ],
   "source": [
    "df[\"Agg_Delta\"].std()"
   ]
  },
  {
   "cell_type": "code",
   "execution_count": 90,
   "id": "1a20ab93-6c2f-4f48-9035-6a30498e8969",
   "metadata": {},
   "outputs": [
    {
     "data": {
      "text/html": [
       "<div>\n",
       "<style scoped>\n",
       "    .dataframe tbody tr th:only-of-type {\n",
       "        vertical-align: middle;\n",
       "    }\n",
       "\n",
       "    .dataframe tbody tr th {\n",
       "        vertical-align: top;\n",
       "    }\n",
       "\n",
       "    .dataframe thead th {\n",
       "        text-align: right;\n",
       "    }\n",
       "</style>\n",
       "<table border=\"1\" class=\"dataframe\">\n",
       "  <thead>\n",
       "    <tr style=\"text-align: right;\">\n",
       "      <th></th>\n",
       "      <th>Datetime</th>\n",
       "      <th>Open</th>\n",
       "      <th>High</th>\n",
       "      <th>Low</th>\n",
       "      <th>Close</th>\n",
       "      <th>Structure</th>\n",
       "      <th>DailyHigh</th>\n",
       "      <th>DailyLow</th>\n",
       "      <th>SMA</th>\n",
       "      <th>EMA</th>\n",
       "      <th>Total_Agg_Volume_Buy</th>\n",
       "      <th>Total_Agg_Volume_Sell</th>\n",
       "      <th>Agg_Delta</th>\n",
       "    </tr>\n",
       "  </thead>\n",
       "  <tbody>\n",
       "    <tr>\n",
       "      <th>count</th>\n",
       "      <td>114</td>\n",
       "      <td>114.000000</td>\n",
       "      <td>114.000000</td>\n",
       "      <td>114.000000</td>\n",
       "      <td>114.000000</td>\n",
       "      <td>114.000000</td>\n",
       "      <td>1.140000e+02</td>\n",
       "      <td>1.140000e+02</td>\n",
       "      <td>114.000000</td>\n",
       "      <td>114.000000</td>\n",
       "      <td>114.000000</td>\n",
       "      <td>114.000000</td>\n",
       "      <td>114.000000</td>\n",
       "    </tr>\n",
       "    <tr>\n",
       "      <th>mean</th>\n",
       "      <td>2024-05-07 13:42:30.000000256</td>\n",
       "      <td>5077.548246</td>\n",
       "      <td>5079.135965</td>\n",
       "      <td>5076.008772</td>\n",
       "      <td>5077.521930</td>\n",
       "      <td>0.175439</td>\n",
       "      <td>-8.721875e+05</td>\n",
       "      <td>8.821671e+05</td>\n",
       "      <td>4230.394737</td>\n",
       "      <td>5077.521930</td>\n",
       "      <td>7418.738596</td>\n",
       "      <td>7794.359649</td>\n",
       "      <td>3255.238596</td>\n",
       "    </tr>\n",
       "    <tr>\n",
       "      <th>min</th>\n",
       "      <td>2024-05-07 09:00:00</td>\n",
       "      <td>5061.000000</td>\n",
       "      <td>5062.500000</td>\n",
       "      <td>5059.500000</td>\n",
       "      <td>5060.500000</td>\n",
       "      <td>0.000000</td>\n",
       "      <td>-1.000000e+08</td>\n",
       "      <td>0.000000e+00</td>\n",
       "      <td>0.000000</td>\n",
       "      <td>5066.100000</td>\n",
       "      <td>0.000000</td>\n",
       "      <td>0.000000</td>\n",
       "      <td>0.000000</td>\n",
       "    </tr>\n",
       "    <tr>\n",
       "      <th>25%</th>\n",
       "      <td>2024-05-07 11:21:15</td>\n",
       "      <td>5074.000000</td>\n",
       "      <td>5075.500000</td>\n",
       "      <td>5072.500000</td>\n",
       "      <td>5074.000000</td>\n",
       "      <td>0.000000</td>\n",
       "      <td>5.095000e+03</td>\n",
       "      <td>5.059500e+03</td>\n",
       "      <td>5070.725000</td>\n",
       "      <td>5074.700000</td>\n",
       "      <td>2666.500000</td>\n",
       "      <td>3091.500000</td>\n",
       "      <td>786.750000</td>\n",
       "    </tr>\n",
       "    <tr>\n",
       "      <th>50%</th>\n",
       "      <td>2024-05-07 13:42:30</td>\n",
       "      <td>5077.500000</td>\n",
       "      <td>5078.750000</td>\n",
       "      <td>5076.000000</td>\n",
       "      <td>5077.750000</td>\n",
       "      <td>0.000000</td>\n",
       "      <td>5.095000e+03</td>\n",
       "      <td>5.059500e+03</td>\n",
       "      <td>5075.200000</td>\n",
       "      <td>5076.700000</td>\n",
       "      <td>5912.500000</td>\n",
       "      <td>5124.500000</td>\n",
       "      <td>1909.500000</td>\n",
       "    </tr>\n",
       "    <tr>\n",
       "      <th>75%</th>\n",
       "      <td>2024-05-07 16:03:45</td>\n",
       "      <td>5081.875000</td>\n",
       "      <td>5083.500000</td>\n",
       "      <td>5080.375000</td>\n",
       "      <td>5082.000000</td>\n",
       "      <td>0.000000</td>\n",
       "      <td>5.095000e+03</td>\n",
       "      <td>5.066500e+03</td>\n",
       "      <td>5079.750000</td>\n",
       "      <td>5081.525000</td>\n",
       "      <td>9773.000000</td>\n",
       "      <td>10720.000000</td>\n",
       "      <td>3810.000000</td>\n",
       "    </tr>\n",
       "    <tr>\n",
       "      <th>max</th>\n",
       "      <td>2024-05-07 18:25:00</td>\n",
       "      <td>5093.500000</td>\n",
       "      <td>5095.000000</td>\n",
       "      <td>5091.000000</td>\n",
       "      <td>5093.500000</td>\n",
       "      <td>1.000000</td>\n",
       "      <td>5.095000e+03</td>\n",
       "      <td>1.000000e+08</td>\n",
       "      <td>5082.500000</td>\n",
       "      <td>5087.600000</td>\n",
       "      <td>32386.000000</td>\n",
       "      <td>38181.000000</td>\n",
       "      <td>20832.000000</td>\n",
       "    </tr>\n",
       "    <tr>\n",
       "      <th>std</th>\n",
       "      <td>NaN</td>\n",
       "      <td>6.139229</td>\n",
       "      <td>6.111170</td>\n",
       "      <td>6.138152</td>\n",
       "      <td>6.073441</td>\n",
       "      <td>0.382021</td>\n",
       "      <td>9.366331e+06</td>\n",
       "      <td>9.365388e+06</td>\n",
       "      <td>1900.246256</td>\n",
       "      <td>5.008396</td>\n",
       "      <td>6076.595899</td>\n",
       "      <td>6912.265525</td>\n",
       "      <td>4019.177150</td>\n",
       "    </tr>\n",
       "  </tbody>\n",
       "</table>\n",
       "</div>"
      ],
      "text/plain": [
       "                            Datetime         Open         High          Low  \\\n",
       "count                            114   114.000000   114.000000   114.000000   \n",
       "mean   2024-05-07 13:42:30.000000256  5077.548246  5079.135965  5076.008772   \n",
       "min              2024-05-07 09:00:00  5061.000000  5062.500000  5059.500000   \n",
       "25%              2024-05-07 11:21:15  5074.000000  5075.500000  5072.500000   \n",
       "50%              2024-05-07 13:42:30  5077.500000  5078.750000  5076.000000   \n",
       "75%              2024-05-07 16:03:45  5081.875000  5083.500000  5080.375000   \n",
       "max              2024-05-07 18:25:00  5093.500000  5095.000000  5091.000000   \n",
       "std                              NaN     6.139229     6.111170     6.138152   \n",
       "\n",
       "             Close   Structure     DailyHigh      DailyLow          SMA  \\\n",
       "count   114.000000  114.000000  1.140000e+02  1.140000e+02   114.000000   \n",
       "mean   5077.521930    0.175439 -8.721875e+05  8.821671e+05  4230.394737   \n",
       "min    5060.500000    0.000000 -1.000000e+08  0.000000e+00     0.000000   \n",
       "25%    5074.000000    0.000000  5.095000e+03  5.059500e+03  5070.725000   \n",
       "50%    5077.750000    0.000000  5.095000e+03  5.059500e+03  5075.200000   \n",
       "75%    5082.000000    0.000000  5.095000e+03  5.066500e+03  5079.750000   \n",
       "max    5093.500000    1.000000  5.095000e+03  1.000000e+08  5082.500000   \n",
       "std       6.073441    0.382021  9.366331e+06  9.365388e+06  1900.246256   \n",
       "\n",
       "               EMA  Total_Agg_Volume_Buy  Total_Agg_Volume_Sell     Agg_Delta  \n",
       "count   114.000000            114.000000             114.000000    114.000000  \n",
       "mean   5077.521930           7418.738596            7794.359649   3255.238596  \n",
       "min    5066.100000              0.000000               0.000000      0.000000  \n",
       "25%    5074.700000           2666.500000            3091.500000    786.750000  \n",
       "50%    5076.700000           5912.500000            5124.500000   1909.500000  \n",
       "75%    5081.525000           9773.000000           10720.000000   3810.000000  \n",
       "max    5087.600000          32386.000000           38181.000000  20832.000000  \n",
       "std       5.008396           6076.595899            6912.265525   4019.177150  "
      ]
     },
     "execution_count": 90,
     "metadata": {},
     "output_type": "execute_result"
    }
   ],
   "source": [
    "df.describe()"
   ]
  },
  {
   "cell_type": "code",
   "execution_count": 75,
   "id": "5874c1c6-6c7d-43eb-88aa-4f8f82152885",
   "metadata": {},
   "outputs": [
    {
     "data": {
      "text/html": [
       "<div>\n",
       "<style scoped>\n",
       "    .dataframe tbody tr th:only-of-type {\n",
       "        vertical-align: middle;\n",
       "    }\n",
       "\n",
       "    .dataframe tbody tr th {\n",
       "        vertical-align: top;\n",
       "    }\n",
       "\n",
       "    .dataframe thead th {\n",
       "        text-align: right;\n",
       "    }\n",
       "</style>\n",
       "<table border=\"1\" class=\"dataframe\">\n",
       "  <thead>\n",
       "    <tr style=\"text-align: right;\">\n",
       "      <th></th>\n",
       "      <th>Data</th>\n",
       "      <th>Compradora</th>\n",
       "      <th>Valor</th>\n",
       "      <th>Quantidade</th>\n",
       "      <th>Vendedora</th>\n",
       "      <th>Agressor</th>\n",
       "    </tr>\n",
       "  </thead>\n",
       "  <tbody>\n",
       "    <tr>\n",
       "      <th>0</th>\n",
       "      <td>09:19:58.465</td>\n",
       "      <td>BTG</td>\n",
       "      <td>5.086,50</td>\n",
       "      <td>1</td>\n",
       "      <td>Ideal</td>\n",
       "      <td>Comprador</td>\n",
       "    </tr>\n",
       "    <tr>\n",
       "      <th>1</th>\n",
       "      <td>09:19:58.194</td>\n",
       "      <td>Ideal</td>\n",
       "      <td>5.086,50</td>\n",
       "      <td>1</td>\n",
       "      <td>Ideal</td>\n",
       "      <td>Comprador</td>\n",
       "    </tr>\n",
       "    <tr>\n",
       "      <th>2</th>\n",
       "      <td>09:19:58.194</td>\n",
       "      <td>Ideal</td>\n",
       "      <td>5.086,50</td>\n",
       "      <td>1</td>\n",
       "      <td>Ideal</td>\n",
       "      <td>Comprador</td>\n",
       "    </tr>\n",
       "    <tr>\n",
       "      <th>3</th>\n",
       "      <td>09:19:58.194</td>\n",
       "      <td>Ideal</td>\n",
       "      <td>5.086,50</td>\n",
       "      <td>1</td>\n",
       "      <td>Ideal</td>\n",
       "      <td>Comprador</td>\n",
       "    </tr>\n",
       "    <tr>\n",
       "      <th>4</th>\n",
       "      <td>09:19:58.193</td>\n",
       "      <td>Ideal</td>\n",
       "      <td>5.086,50</td>\n",
       "      <td>1</td>\n",
       "      <td>Genial</td>\n",
       "      <td>Comprador</td>\n",
       "    </tr>\n",
       "    <tr>\n",
       "      <th>...</th>\n",
       "      <td>...</td>\n",
       "      <td>...</td>\n",
       "      <td>...</td>\n",
       "      <td>...</td>\n",
       "      <td>...</td>\n",
       "      <td>...</td>\n",
       "    </tr>\n",
       "    <tr>\n",
       "      <th>5057</th>\n",
       "      <td>09:15:00.089</td>\n",
       "      <td>XP</td>\n",
       "      <td>5.085,00</td>\n",
       "      <td>1</td>\n",
       "      <td>Necton</td>\n",
       "      <td>Vendedor</td>\n",
       "    </tr>\n",
       "    <tr>\n",
       "      <th>5058</th>\n",
       "      <td>09:15:00.089</td>\n",
       "      <td>XP</td>\n",
       "      <td>5.085,00</td>\n",
       "      <td>10</td>\n",
       "      <td>Necton</td>\n",
       "      <td>Vendedor</td>\n",
       "    </tr>\n",
       "    <tr>\n",
       "      <th>5059</th>\n",
       "      <td>09:15:00.089</td>\n",
       "      <td>BTG</td>\n",
       "      <td>5.085,00</td>\n",
       "      <td>1</td>\n",
       "      <td>Necton</td>\n",
       "      <td>Vendedor</td>\n",
       "    </tr>\n",
       "    <tr>\n",
       "      <th>5060</th>\n",
       "      <td>09:15:00.089</td>\n",
       "      <td>XP</td>\n",
       "      <td>5.085,00</td>\n",
       "      <td>5</td>\n",
       "      <td>Necton</td>\n",
       "      <td>Vendedor</td>\n",
       "    </tr>\n",
       "    <tr>\n",
       "      <th>5061</th>\n",
       "      <td>09:15:00.089</td>\n",
       "      <td>BTG</td>\n",
       "      <td>5.085,00</td>\n",
       "      <td>96</td>\n",
       "      <td>Necton</td>\n",
       "      <td>Vendedor</td>\n",
       "    </tr>\n",
       "  </tbody>\n",
       "</table>\n",
       "<p>5062 rows × 6 columns</p>\n",
       "</div>"
      ],
      "text/plain": [
       "              Data Compradora     Valor  Quantidade Vendedora   Agressor\n",
       "0     09:19:58.465        BTG  5.086,50           1     Ideal  Comprador\n",
       "1     09:19:58.194      Ideal  5.086,50           1     Ideal  Comprador\n",
       "2     09:19:58.194      Ideal  5.086,50           1     Ideal  Comprador\n",
       "3     09:19:58.194      Ideal  5.086,50           1     Ideal  Comprador\n",
       "4     09:19:58.193      Ideal  5.086,50           1    Genial  Comprador\n",
       "...            ...        ...       ...         ...       ...        ...\n",
       "5057  09:15:00.089         XP  5.085,00           1    Necton   Vendedor\n",
       "5058  09:15:00.089         XP  5.085,00          10    Necton   Vendedor\n",
       "5059  09:15:00.089        BTG  5.085,00           1    Necton   Vendedor\n",
       "5060  09:15:00.089         XP  5.085,00           5    Necton   Vendedor\n",
       "5061  09:15:00.089        BTG  5.085,00          96    Necton   Vendedor\n",
       "\n",
       "[5062 rows x 6 columns]"
      ]
     },
     "execution_count": 75,
     "metadata": {},
     "output_type": "execute_result"
    }
   ],
   "source": [
    "df_profit = pd.read_csv(\"csv/TT_NEG_WDO_24_05_07.txt\", delimiter=\"\\t\", low_memory=False)\n",
    "df_profit"
   ]
  },
  {
   "cell_type": "code",
   "execution_count": 80,
   "id": "4ed8feab-5855-45d5-a01c-1a7e9dbf0ef7",
   "metadata": {},
   "outputs": [
    {
     "data": {
      "text/plain": [
       "np.int64(24560)"
      ]
     },
     "execution_count": 80,
     "metadata": {},
     "output_type": "execute_result"
    }
   ],
   "source": [
    "df_profit[\"Quantidade\"].sum()"
   ]
  },
  {
   "cell_type": "code",
   "execution_count": 76,
   "id": "1fc46a7f-e65d-4015-8bc4-4b03e412bbf7",
   "metadata": {},
   "outputs": [
    {
     "data": {
      "text/html": [
       "<div>\n",
       "<style scoped>\n",
       "    .dataframe tbody tr th:only-of-type {\n",
       "        vertical-align: middle;\n",
       "    }\n",
       "\n",
       "    .dataframe tbody tr th {\n",
       "        vertical-align: top;\n",
       "    }\n",
       "\n",
       "    .dataframe thead th {\n",
       "        text-align: right;\n",
       "    }\n",
       "</style>\n",
       "<table border=\"1\" class=\"dataframe\">\n",
       "  <thead>\n",
       "    <tr style=\"text-align: right;\">\n",
       "      <th></th>\n",
       "      <th>&lt;DATE&gt;</th>\n",
       "      <th>&lt;TIME&gt;</th>\n",
       "      <th>&lt;BID&gt;</th>\n",
       "      <th>&lt;ASK&gt;</th>\n",
       "      <th>&lt;LAST&gt;</th>\n",
       "      <th>&lt;VOLUME&gt;</th>\n",
       "      <th>&lt;FLAGS&gt;</th>\n",
       "    </tr>\n",
       "  </thead>\n",
       "  <tbody>\n",
       "    <tr>\n",
       "      <th>0</th>\n",
       "      <td>2024.05.07</td>\n",
       "      <td>09:15:00.003</td>\n",
       "      <td>5085.0</td>\n",
       "      <td>NaN</td>\n",
       "      <td>NaN</td>\n",
       "      <td>NaN</td>\n",
       "      <td>2</td>\n",
       "    </tr>\n",
       "    <tr>\n",
       "      <th>1</th>\n",
       "      <td>2024.05.07</td>\n",
       "      <td>09:15:00.040</td>\n",
       "      <td>NaN</td>\n",
       "      <td>NaN</td>\n",
       "      <td>5085.5</td>\n",
       "      <td>2.0</td>\n",
       "      <td>56</td>\n",
       "    </tr>\n",
       "    <tr>\n",
       "      <th>2</th>\n",
       "      <td>2024.05.07</td>\n",
       "      <td>09:15:00.089</td>\n",
       "      <td>NaN</td>\n",
       "      <td>NaN</td>\n",
       "      <td>5085.0</td>\n",
       "      <td>96.0</td>\n",
       "      <td>88</td>\n",
       "    </tr>\n",
       "    <tr>\n",
       "      <th>3</th>\n",
       "      <td>2024.05.07</td>\n",
       "      <td>09:15:00.089</td>\n",
       "      <td>NaN</td>\n",
       "      <td>NaN</td>\n",
       "      <td>5085.0</td>\n",
       "      <td>5.0</td>\n",
       "      <td>88</td>\n",
       "    </tr>\n",
       "    <tr>\n",
       "      <th>4</th>\n",
       "      <td>2024.05.07</td>\n",
       "      <td>09:15:00.089</td>\n",
       "      <td>NaN</td>\n",
       "      <td>NaN</td>\n",
       "      <td>5085.0</td>\n",
       "      <td>1.0</td>\n",
       "      <td>88</td>\n",
       "    </tr>\n",
       "    <tr>\n",
       "      <th>...</th>\n",
       "      <td>...</td>\n",
       "      <td>...</td>\n",
       "      <td>...</td>\n",
       "      <td>...</td>\n",
       "      <td>...</td>\n",
       "      <td>...</td>\n",
       "      <td>...</td>\n",
       "    </tr>\n",
       "    <tr>\n",
       "      <th>8073</th>\n",
       "      <td>2024.05.07</td>\n",
       "      <td>09:19:58.618</td>\n",
       "      <td>NaN</td>\n",
       "      <td>NaN</td>\n",
       "      <td>5086.0</td>\n",
       "      <td>2.0</td>\n",
       "      <td>88</td>\n",
       "    </tr>\n",
       "    <tr>\n",
       "      <th>8074</th>\n",
       "      <td>2024.05.07</td>\n",
       "      <td>09:19:59.320</td>\n",
       "      <td>NaN</td>\n",
       "      <td>NaN</td>\n",
       "      <td>5086.0</td>\n",
       "      <td>5.0</td>\n",
       "      <td>88</td>\n",
       "    </tr>\n",
       "    <tr>\n",
       "      <th>8075</th>\n",
       "      <td>2024.05.07</td>\n",
       "      <td>09:19:59.824</td>\n",
       "      <td>NaN</td>\n",
       "      <td>NaN</td>\n",
       "      <td>5086.5</td>\n",
       "      <td>1.0</td>\n",
       "      <td>56</td>\n",
       "    </tr>\n",
       "    <tr>\n",
       "      <th>8076</th>\n",
       "      <td>2024.05.07</td>\n",
       "      <td>09:19:59.825</td>\n",
       "      <td>NaN</td>\n",
       "      <td>NaN</td>\n",
       "      <td>5086.5</td>\n",
       "      <td>2.0</td>\n",
       "      <td>56</td>\n",
       "    </tr>\n",
       "    <tr>\n",
       "      <th>8077</th>\n",
       "      <td>2024.05.07</td>\n",
       "      <td>09:19:59.890</td>\n",
       "      <td>NaN</td>\n",
       "      <td>NaN</td>\n",
       "      <td>5086.0</td>\n",
       "      <td>2.0</td>\n",
       "      <td>88</td>\n",
       "    </tr>\n",
       "  </tbody>\n",
       "</table>\n",
       "<p>8078 rows × 7 columns</p>\n",
       "</div>"
      ],
      "text/plain": [
       "          <DATE>        <TIME>   <BID>  <ASK>  <LAST>  <VOLUME>  <FLAGS>\n",
       "0     2024.05.07  09:15:00.003  5085.0    NaN     NaN       NaN        2\n",
       "1     2024.05.07  09:15:00.040     NaN    NaN  5085.5       2.0       56\n",
       "2     2024.05.07  09:15:00.089     NaN    NaN  5085.0      96.0       88\n",
       "3     2024.05.07  09:15:00.089     NaN    NaN  5085.0       5.0       88\n",
       "4     2024.05.07  09:15:00.089     NaN    NaN  5085.0       1.0       88\n",
       "...          ...           ...     ...    ...     ...       ...      ...\n",
       "8073  2024.05.07  09:19:58.618     NaN    NaN  5086.0       2.0       88\n",
       "8074  2024.05.07  09:19:59.320     NaN    NaN  5086.0       5.0       88\n",
       "8075  2024.05.07  09:19:59.824     NaN    NaN  5086.5       1.0       56\n",
       "8076  2024.05.07  09:19:59.825     NaN    NaN  5086.5       2.0       56\n",
       "8077  2024.05.07  09:19:59.890     NaN    NaN  5086.0       2.0       88\n",
       "\n",
       "[8078 rows x 7 columns]"
      ]
     },
     "execution_count": 76,
     "metadata": {},
     "output_type": "execute_result"
    }
   ],
   "source": [
    "df_mt5 = pd.read_csv(\"csv/WDO@D_202405070900_202405071829.csv\", delimiter=\"\\t\", low_memory=False)\n",
    "df_mt5"
   ]
  },
  {
   "cell_type": "code",
   "execution_count": 72,
   "id": "cadf30ab-045c-4884-b0c2-d528f2049fed",
   "metadata": {},
   "outputs": [
    {
     "data": {
      "text/plain": [
       "array([  2,  56,  88,  90,   4,  60, 120,  94,   6,  62,  92, 124,  58])"
      ]
     },
     "execution_count": 72,
     "metadata": {},
     "output_type": "execute_result"
    }
   ],
   "source": [
    "unique = df_mt5[\"<FLAGS>\"].unique()\n",
    "unique"
   ]
  },
  {
   "cell_type": "code",
   "execution_count": 74,
   "id": "f268497b-bc33-406c-97b3-667b3b1e2e8e",
   "metadata": {},
   "outputs": [
    {
     "name": "stdout",
     "output_type": "stream",
     "text": [
      "flag: 2\n",
      "0.0\n",
      "flag: 56\n",
      "15337.0\n",
      "flag: 88\n",
      "15684.0\n",
      "flag: 90\n",
      "251.0\n",
      "flag: 4\n",
      "0.0\n",
      "flag: 60\n",
      "282.0\n",
      "flag: 120\n",
      "184.0\n",
      "flag: 94\n",
      "140.0\n",
      "flag: 6\n",
      "0.0\n",
      "flag: 62\n",
      "25.0\n",
      "flag: 92\n",
      "1.0\n",
      "flag: 124\n",
      "13.0\n",
      "flag: 58\n",
      "3.0\n"
     ]
    }
   ],
   "source": [
    "for u in unique:\n",
    "    print(\"flag:\", u)\n",
    "    print(df_mt5[(df_mt5[\"<FLAGS>\"] == u)][\"<VOLUME>\"].sum())"
   ]
  },
  {
   "cell_type": "code",
   "execution_count": 60,
   "id": "0abdaf32-0ee0-4e60-8a14-e32110090025",
   "metadata": {},
   "outputs": [
    {
     "data": {
      "text/html": [
       "<div>\n",
       "<style scoped>\n",
       "    .dataframe tbody tr th:only-of-type {\n",
       "        vertical-align: middle;\n",
       "    }\n",
       "\n",
       "    .dataframe tbody tr th {\n",
       "        vertical-align: top;\n",
       "    }\n",
       "\n",
       "    .dataframe thead th {\n",
       "        text-align: right;\n",
       "    }\n",
       "</style>\n",
       "<table border=\"1\" class=\"dataframe\">\n",
       "  <thead>\n",
       "    <tr style=\"text-align: right;\">\n",
       "      <th></th>\n",
       "      <th>&lt;DATE&gt;</th>\n",
       "      <th>&lt;TIME&gt;</th>\n",
       "      <th>&lt;BID&gt;</th>\n",
       "      <th>&lt;ASK&gt;</th>\n",
       "      <th>&lt;LAST&gt;</th>\n",
       "      <th>&lt;VOLUME&gt;</th>\n",
       "      <th>&lt;FLAGS&gt;</th>\n",
       "    </tr>\n",
       "  </thead>\n",
       "  <tbody>\n",
       "    <tr>\n",
       "      <th>1</th>\n",
       "      <td>2024.05.07</td>\n",
       "      <td>09:15:00.040</td>\n",
       "      <td>NaN</td>\n",
       "      <td>NaN</td>\n",
       "      <td>5085.5</td>\n",
       "      <td>2.0</td>\n",
       "      <td>56</td>\n",
       "    </tr>\n",
       "    <tr>\n",
       "      <th>106</th>\n",
       "      <td>2024.05.07</td>\n",
       "      <td>09:15:00.094</td>\n",
       "      <td>NaN</td>\n",
       "      <td>NaN</td>\n",
       "      <td>5085.0</td>\n",
       "      <td>2.0</td>\n",
       "      <td>56</td>\n",
       "    </tr>\n",
       "    <tr>\n",
       "      <th>107</th>\n",
       "      <td>2024.05.07</td>\n",
       "      <td>09:15:00.094</td>\n",
       "      <td>NaN</td>\n",
       "      <td>NaN</td>\n",
       "      <td>5085.0</td>\n",
       "      <td>2.0</td>\n",
       "      <td>56</td>\n",
       "    </tr>\n",
       "    <tr>\n",
       "      <th>108</th>\n",
       "      <td>2024.05.07</td>\n",
       "      <td>09:15:00.146</td>\n",
       "      <td>NaN</td>\n",
       "      <td>NaN</td>\n",
       "      <td>5085.0</td>\n",
       "      <td>1.0</td>\n",
       "      <td>56</td>\n",
       "    </tr>\n",
       "    <tr>\n",
       "      <th>109</th>\n",
       "      <td>2024.05.07</td>\n",
       "      <td>09:15:00.202</td>\n",
       "      <td>NaN</td>\n",
       "      <td>NaN</td>\n",
       "      <td>5085.0</td>\n",
       "      <td>1.0</td>\n",
       "      <td>56</td>\n",
       "    </tr>\n",
       "    <tr>\n",
       "      <th>...</th>\n",
       "      <td>...</td>\n",
       "      <td>...</td>\n",
       "      <td>...</td>\n",
       "      <td>...</td>\n",
       "      <td>...</td>\n",
       "      <td>...</td>\n",
       "      <td>...</td>\n",
       "    </tr>\n",
       "    <tr>\n",
       "      <th>8067</th>\n",
       "      <td>2024.05.07</td>\n",
       "      <td>09:19:58.194</td>\n",
       "      <td>NaN</td>\n",
       "      <td>NaN</td>\n",
       "      <td>5086.5</td>\n",
       "      <td>1.0</td>\n",
       "      <td>56</td>\n",
       "    </tr>\n",
       "    <tr>\n",
       "      <th>8068</th>\n",
       "      <td>2024.05.07</td>\n",
       "      <td>09:19:58.465</td>\n",
       "      <td>NaN</td>\n",
       "      <td>NaN</td>\n",
       "      <td>5086.5</td>\n",
       "      <td>1.0</td>\n",
       "      <td>56</td>\n",
       "    </tr>\n",
       "    <tr>\n",
       "      <th>8069</th>\n",
       "      <td>2024.05.07</td>\n",
       "      <td>09:19:58.487</td>\n",
       "      <td>NaN</td>\n",
       "      <td>NaN</td>\n",
       "      <td>5086.5</td>\n",
       "      <td>1.0</td>\n",
       "      <td>56</td>\n",
       "    </tr>\n",
       "    <tr>\n",
       "      <th>8075</th>\n",
       "      <td>2024.05.07</td>\n",
       "      <td>09:19:59.824</td>\n",
       "      <td>NaN</td>\n",
       "      <td>NaN</td>\n",
       "      <td>5086.5</td>\n",
       "      <td>1.0</td>\n",
       "      <td>56</td>\n",
       "    </tr>\n",
       "    <tr>\n",
       "      <th>8076</th>\n",
       "      <td>2024.05.07</td>\n",
       "      <td>09:19:59.825</td>\n",
       "      <td>NaN</td>\n",
       "      <td>NaN</td>\n",
       "      <td>5086.5</td>\n",
       "      <td>2.0</td>\n",
       "      <td>56</td>\n",
       "    </tr>\n",
       "  </tbody>\n",
       "</table>\n",
       "<p>3768 rows × 7 columns</p>\n",
       "</div>"
      ],
      "text/plain": [
       "          <DATE>        <TIME>  <BID>  <ASK>  <LAST>  <VOLUME>  <FLAGS>\n",
       "1     2024.05.07  09:15:00.040    NaN    NaN  5085.5       2.0       56\n",
       "106   2024.05.07  09:15:00.094    NaN    NaN  5085.0       2.0       56\n",
       "107   2024.05.07  09:15:00.094    NaN    NaN  5085.0       2.0       56\n",
       "108   2024.05.07  09:15:00.146    NaN    NaN  5085.0       1.0       56\n",
       "109   2024.05.07  09:15:00.202    NaN    NaN  5085.0       1.0       56\n",
       "...          ...           ...    ...    ...     ...       ...      ...\n",
       "8067  2024.05.07  09:19:58.194    NaN    NaN  5086.5       1.0       56\n",
       "8068  2024.05.07  09:19:58.465    NaN    NaN  5086.5       1.0       56\n",
       "8069  2024.05.07  09:19:58.487    NaN    NaN  5086.5       1.0       56\n",
       "8075  2024.05.07  09:19:59.824    NaN    NaN  5086.5       1.0       56\n",
       "8076  2024.05.07  09:19:59.825    NaN    NaN  5086.5       2.0       56\n",
       "\n",
       "[3768 rows x 7 columns]"
      ]
     },
     "execution_count": 60,
     "metadata": {},
     "output_type": "execute_result"
    }
   ],
   "source": [
    "df_mt5"
   ]
  },
  {
   "cell_type": "code",
   "execution_count": 61,
   "id": "a305b1a4-6bf6-4d11-9845-9df85771f380",
   "metadata": {},
   "outputs": [
    {
     "data": {
      "text/plain": [
       "np.float64(15337.0)"
      ]
     },
     "execution_count": 61,
     "metadata": {},
     "output_type": "execute_result"
    }
   ],
   "source": [
    "df_mt5[\"<VOLUME>\"].sum()"
   ]
  },
  {
   "cell_type": "code",
   "execution_count": null,
   "id": "c8aa34b8-359e-4286-bb0f-65dd514c1c46",
   "metadata": {},
   "outputs": [],
   "source": []
  }
 ],
 "metadata": {
  "kernelspec": {
   "display_name": "Python 3 (ipykernel)",
   "language": "python",
   "name": "python3"
  },
  "language_info": {
   "codemirror_mode": {
    "name": "ipython",
    "version": 3
   },
   "file_extension": ".py",
   "mimetype": "text/x-python",
   "name": "python",
   "nbconvert_exporter": "python",
   "pygments_lexer": "ipython3",
   "version": "3.13.5"
  }
 },
 "nbformat": 4,
 "nbformat_minor": 5
}
